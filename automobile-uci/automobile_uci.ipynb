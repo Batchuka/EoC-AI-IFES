{
  "cells": [
    {
      "cell_type": "markdown",
      "metadata": {},
      "source": [
        "# Burocracias\n",
        "---"
      ]
    },
    {
      "cell_type": "code",
      "execution_count": null,
      "metadata": {
        "colab": {
          "base_uri": "https://localhost:8080/"
        },
        "id": "j8MgCQ-Tv2qg",
        "outputId": "8fba15ea-fe7e-441d-a41c-01124a657283"
      },
      "outputs": [],
      "source": [
        "%pip install -r requirements.txt"
      ]
    },
    {
      "cell_type": "code",
      "execution_count": 6,
      "metadata": {
        "id": "ohGj0v833YIG"
      },
      "outputs": [],
      "source": [
        "from ucimlrepo import fetch_ucirepo\n",
        "# https://archive.ics.uci.edu/dataset/10/automobile\n",
        "\n",
        "import pandas as pd\n",
        "from tailor_made_methods import check_missing_values\n"
      ]
    },
    {
      "cell_type": "markdown",
      "metadata": {
        "id": "pGdqa2rtyRGn"
      },
      "source": [
        "# Pre Processamento\n",
        "---"
      ]
    },
    {
      "cell_type": "code",
      "execution_count": 7,
      "metadata": {
        "colab": {
          "base_uri": "https://localhost:8080/",
          "height": 342
        },
        "id": "V1vw-KvIv6f4",
        "outputId": "c46c5862-e162-4664-d516-09f7269cbe96"
      },
      "outputs": [
        {
          "data": {
            "text/html": [
              "<div>\n",
              "<style scoped>\n",
              "    .dataframe tbody tr th:only-of-type {\n",
              "        vertical-align: middle;\n",
              "    }\n",
              "\n",
              "    .dataframe tbody tr th {\n",
              "        vertical-align: top;\n",
              "    }\n",
              "\n",
              "    .dataframe thead th {\n",
              "        text-align: right;\n",
              "    }\n",
              "</style>\n",
              "<table border=\"1\" class=\"dataframe\">\n",
              "  <thead>\n",
              "    <tr style=\"text-align: right;\">\n",
              "      <th></th>\n",
              "      <th>highway-mpg</th>\n",
              "      <th>city-mpg</th>\n",
              "      <th>peak-rpm</th>\n",
              "      <th>horsepower</th>\n",
              "      <th>compression-ratio</th>\n",
              "      <th>stroke</th>\n",
              "      <th>bore</th>\n",
              "      <th>fuel-system</th>\n",
              "      <th>engine-size</th>\n",
              "      <th>num-of-cylinders</th>\n",
              "      <th>...</th>\n",
              "      <th>length</th>\n",
              "      <th>wheel-base</th>\n",
              "      <th>engine-location</th>\n",
              "      <th>drive-wheels</th>\n",
              "      <th>body-style</th>\n",
              "      <th>num-of-doors</th>\n",
              "      <th>aspiration</th>\n",
              "      <th>fuel-type</th>\n",
              "      <th>make</th>\n",
              "      <th>normalized-losses</th>\n",
              "    </tr>\n",
              "  </thead>\n",
              "  <tbody>\n",
              "    <tr>\n",
              "      <th>0</th>\n",
              "      <td>27</td>\n",
              "      <td>21</td>\n",
              "      <td>5000.0</td>\n",
              "      <td>111.0</td>\n",
              "      <td>9.0</td>\n",
              "      <td>2.68</td>\n",
              "      <td>3.47</td>\n",
              "      <td>mpfi</td>\n",
              "      <td>130</td>\n",
              "      <td>4</td>\n",
              "      <td>...</td>\n",
              "      <td>168.8</td>\n",
              "      <td>88.6</td>\n",
              "      <td>front</td>\n",
              "      <td>rwd</td>\n",
              "      <td>convertible</td>\n",
              "      <td>2.0</td>\n",
              "      <td>std</td>\n",
              "      <td>gas</td>\n",
              "      <td>alfa-romero</td>\n",
              "      <td>NaN</td>\n",
              "    </tr>\n",
              "    <tr>\n",
              "      <th>1</th>\n",
              "      <td>27</td>\n",
              "      <td>21</td>\n",
              "      <td>5000.0</td>\n",
              "      <td>111.0</td>\n",
              "      <td>9.0</td>\n",
              "      <td>2.68</td>\n",
              "      <td>3.47</td>\n",
              "      <td>mpfi</td>\n",
              "      <td>130</td>\n",
              "      <td>4</td>\n",
              "      <td>...</td>\n",
              "      <td>168.8</td>\n",
              "      <td>88.6</td>\n",
              "      <td>front</td>\n",
              "      <td>rwd</td>\n",
              "      <td>convertible</td>\n",
              "      <td>2.0</td>\n",
              "      <td>std</td>\n",
              "      <td>gas</td>\n",
              "      <td>alfa-romero</td>\n",
              "      <td>NaN</td>\n",
              "    </tr>\n",
              "    <tr>\n",
              "      <th>2</th>\n",
              "      <td>26</td>\n",
              "      <td>19</td>\n",
              "      <td>5000.0</td>\n",
              "      <td>154.0</td>\n",
              "      <td>9.0</td>\n",
              "      <td>3.47</td>\n",
              "      <td>2.68</td>\n",
              "      <td>mpfi</td>\n",
              "      <td>152</td>\n",
              "      <td>6</td>\n",
              "      <td>...</td>\n",
              "      <td>171.2</td>\n",
              "      <td>94.5</td>\n",
              "      <td>front</td>\n",
              "      <td>rwd</td>\n",
              "      <td>hatchback</td>\n",
              "      <td>2.0</td>\n",
              "      <td>std</td>\n",
              "      <td>gas</td>\n",
              "      <td>alfa-romero</td>\n",
              "      <td>NaN</td>\n",
              "    </tr>\n",
              "    <tr>\n",
              "      <th>3</th>\n",
              "      <td>30</td>\n",
              "      <td>24</td>\n",
              "      <td>5500.0</td>\n",
              "      <td>102.0</td>\n",
              "      <td>10.0</td>\n",
              "      <td>3.40</td>\n",
              "      <td>3.19</td>\n",
              "      <td>mpfi</td>\n",
              "      <td>109</td>\n",
              "      <td>4</td>\n",
              "      <td>...</td>\n",
              "      <td>176.6</td>\n",
              "      <td>99.8</td>\n",
              "      <td>front</td>\n",
              "      <td>fwd</td>\n",
              "      <td>sedan</td>\n",
              "      <td>4.0</td>\n",
              "      <td>std</td>\n",
              "      <td>gas</td>\n",
              "      <td>audi</td>\n",
              "      <td>164.0</td>\n",
              "    </tr>\n",
              "    <tr>\n",
              "      <th>4</th>\n",
              "      <td>22</td>\n",
              "      <td>18</td>\n",
              "      <td>5500.0</td>\n",
              "      <td>115.0</td>\n",
              "      <td>8.0</td>\n",
              "      <td>3.40</td>\n",
              "      <td>3.19</td>\n",
              "      <td>mpfi</td>\n",
              "      <td>136</td>\n",
              "      <td>5</td>\n",
              "      <td>...</td>\n",
              "      <td>176.6</td>\n",
              "      <td>99.4</td>\n",
              "      <td>front</td>\n",
              "      <td>4wd</td>\n",
              "      <td>sedan</td>\n",
              "      <td>4.0</td>\n",
              "      <td>std</td>\n",
              "      <td>gas</td>\n",
              "      <td>audi</td>\n",
              "      <td>164.0</td>\n",
              "    </tr>\n",
              "  </tbody>\n",
              "</table>\n",
              "<p>5 rows × 24 columns</p>\n",
              "</div>"
            ],
            "text/plain": [
              "   highway-mpg  city-mpg  peak-rpm  horsepower  compression-ratio  stroke  \\\n",
              "0           27        21    5000.0       111.0                9.0    2.68   \n",
              "1           27        21    5000.0       111.0                9.0    2.68   \n",
              "2           26        19    5000.0       154.0                9.0    3.47   \n",
              "3           30        24    5500.0       102.0               10.0    3.40   \n",
              "4           22        18    5500.0       115.0                8.0    3.40   \n",
              "\n",
              "   bore fuel-system  engine-size  num-of-cylinders  ... length  wheel-base  \\\n",
              "0  3.47        mpfi          130                 4  ...  168.8        88.6   \n",
              "1  3.47        mpfi          130                 4  ...  168.8        88.6   \n",
              "2  2.68        mpfi          152                 6  ...  171.2        94.5   \n",
              "3  3.19        mpfi          109                 4  ...  176.6        99.8   \n",
              "4  3.19        mpfi          136                 5  ...  176.6        99.4   \n",
              "\n",
              "   engine-location  drive-wheels   body-style  num-of-doors aspiration  \\\n",
              "0            front           rwd  convertible           2.0        std   \n",
              "1            front           rwd  convertible           2.0        std   \n",
              "2            front           rwd    hatchback           2.0        std   \n",
              "3            front           fwd        sedan           4.0        std   \n",
              "4            front           4wd        sedan           4.0        std   \n",
              "\n",
              "  fuel-type         make  normalized-losses  \n",
              "0       gas  alfa-romero                NaN  \n",
              "1       gas  alfa-romero                NaN  \n",
              "2       gas  alfa-romero                NaN  \n",
              "3       gas         audi              164.0  \n",
              "4       gas         audi              164.0  \n",
              "\n",
              "[5 rows x 24 columns]"
            ]
          },
          "execution_count": 7,
          "metadata": {},
          "output_type": "execute_result"
        }
      ],
      "source": [
        "\n",
        "# fetch dataset\n",
        "automobile = fetch_ucirepo(id=10)\n",
        "\n",
        "# data (as pandas dataframes)\n",
        "y = automobile.data.features['price']\n",
        "\n",
        "# drop price from features\n",
        "X = automobile.data.features.drop('price', axis=1)\n",
        "\n",
        "# convert to dataframe\n",
        "X = pd.DataFrame(X)\n",
        "\n",
        "# print head of X\n",
        "X.head()\n"
      ]
    },
    {
      "cell_type": "markdown",
      "metadata": {
        "id": "pehbrE6n4Ao2"
      },
      "source": [
        "## Eliminação manual de atributos e Integração dos atributos"
      ]
    },
    {
      "cell_type": "code",
      "execution_count": 10,
      "metadata": {
        "colab": {
          "base_uri": "https://localhost:8080/",
          "height": 275
        },
        "id": "WIolf1X8zvPG",
        "outputId": "56fa8684-478f-411c-8a6d-c317009405c4"
      },
      "outputs": [
        {
          "data": {
            "text/html": [
              "<div>\n",
              "<style scoped>\n",
              "    .dataframe tbody tr th:only-of-type {\n",
              "        vertical-align: middle;\n",
              "    }\n",
              "\n",
              "    .dataframe tbody tr th {\n",
              "        vertical-align: top;\n",
              "    }\n",
              "\n",
              "    .dataframe thead th {\n",
              "        text-align: right;\n",
              "    }\n",
              "</style>\n",
              "<table border=\"1\" class=\"dataframe\">\n",
              "  <thead>\n",
              "    <tr style=\"text-align: right;\">\n",
              "      <th></th>\n",
              "      <th>highway-mpg</th>\n",
              "      <th>city-mpg</th>\n",
              "      <th>horsepower</th>\n",
              "      <th>num-of-cylinders</th>\n",
              "      <th>height</th>\n",
              "      <th>width</th>\n",
              "      <th>length</th>\n",
              "      <th>wheel-base</th>\n",
              "      <th>engine-location</th>\n",
              "      <th>drive-wheels</th>\n",
              "      <th>body-style</th>\n",
              "      <th>aspiration</th>\n",
              "      <th>fuel-type</th>\n",
              "      <th>make</th>\n",
              "      <th>normalized-losses</th>\n",
              "    </tr>\n",
              "  </thead>\n",
              "  <tbody>\n",
              "    <tr>\n",
              "      <th>0</th>\n",
              "      <td>27</td>\n",
              "      <td>21</td>\n",
              "      <td>111.0</td>\n",
              "      <td>4</td>\n",
              "      <td>48.8</td>\n",
              "      <td>64.1</td>\n",
              "      <td>168.8</td>\n",
              "      <td>88.6</td>\n",
              "      <td>front</td>\n",
              "      <td>rwd</td>\n",
              "      <td>convertible</td>\n",
              "      <td>std</td>\n",
              "      <td>gas</td>\n",
              "      <td>alfa-romero</td>\n",
              "      <td>NaN</td>\n",
              "    </tr>\n",
              "    <tr>\n",
              "      <th>1</th>\n",
              "      <td>27</td>\n",
              "      <td>21</td>\n",
              "      <td>111.0</td>\n",
              "      <td>4</td>\n",
              "      <td>48.8</td>\n",
              "      <td>64.1</td>\n",
              "      <td>168.8</td>\n",
              "      <td>88.6</td>\n",
              "      <td>front</td>\n",
              "      <td>rwd</td>\n",
              "      <td>convertible</td>\n",
              "      <td>std</td>\n",
              "      <td>gas</td>\n",
              "      <td>alfa-romero</td>\n",
              "      <td>NaN</td>\n",
              "    </tr>\n",
              "    <tr>\n",
              "      <th>2</th>\n",
              "      <td>26</td>\n",
              "      <td>19</td>\n",
              "      <td>154.0</td>\n",
              "      <td>6</td>\n",
              "      <td>52.4</td>\n",
              "      <td>65.5</td>\n",
              "      <td>171.2</td>\n",
              "      <td>94.5</td>\n",
              "      <td>front</td>\n",
              "      <td>rwd</td>\n",
              "      <td>hatchback</td>\n",
              "      <td>std</td>\n",
              "      <td>gas</td>\n",
              "      <td>alfa-romero</td>\n",
              "      <td>NaN</td>\n",
              "    </tr>\n",
              "    <tr>\n",
              "      <th>3</th>\n",
              "      <td>30</td>\n",
              "      <td>24</td>\n",
              "      <td>102.0</td>\n",
              "      <td>4</td>\n",
              "      <td>54.3</td>\n",
              "      <td>66.2</td>\n",
              "      <td>176.6</td>\n",
              "      <td>99.8</td>\n",
              "      <td>front</td>\n",
              "      <td>fwd</td>\n",
              "      <td>sedan</td>\n",
              "      <td>std</td>\n",
              "      <td>gas</td>\n",
              "      <td>audi</td>\n",
              "      <td>164.0</td>\n",
              "    </tr>\n",
              "    <tr>\n",
              "      <th>4</th>\n",
              "      <td>22</td>\n",
              "      <td>18</td>\n",
              "      <td>115.0</td>\n",
              "      <td>5</td>\n",
              "      <td>54.3</td>\n",
              "      <td>66.4</td>\n",
              "      <td>176.6</td>\n",
              "      <td>99.4</td>\n",
              "      <td>front</td>\n",
              "      <td>4wd</td>\n",
              "      <td>sedan</td>\n",
              "      <td>std</td>\n",
              "      <td>gas</td>\n",
              "      <td>audi</td>\n",
              "      <td>164.0</td>\n",
              "    </tr>\n",
              "  </tbody>\n",
              "</table>\n",
              "</div>"
            ],
            "text/plain": [
              "   highway-mpg  city-mpg  horsepower  num-of-cylinders  height  width  length  \\\n",
              "0           27        21       111.0                 4    48.8   64.1   168.8   \n",
              "1           27        21       111.0                 4    48.8   64.1   168.8   \n",
              "2           26        19       154.0                 6    52.4   65.5   171.2   \n",
              "3           30        24       102.0                 4    54.3   66.2   176.6   \n",
              "4           22        18       115.0                 5    54.3   66.4   176.6   \n",
              "\n",
              "   wheel-base engine-location drive-wheels   body-style aspiration fuel-type  \\\n",
              "0        88.6           front          rwd  convertible        std       gas   \n",
              "1        88.6           front          rwd  convertible        std       gas   \n",
              "2        94.5           front          rwd    hatchback        std       gas   \n",
              "3        99.8           front          fwd        sedan        std       gas   \n",
              "4        99.4           front          4wd        sedan        std       gas   \n",
              "\n",
              "          make  normalized-losses  \n",
              "0  alfa-romero                NaN  \n",
              "1  alfa-romero                NaN  \n",
              "2  alfa-romero                NaN  \n",
              "3         audi              164.0  \n",
              "4         audi              164.0  "
            ]
          },
          "execution_count": 10,
          "metadata": {},
          "output_type": "execute_result"
        }
      ],
      "source": [
        "# drop price and normalized-losses from features\n",
        "X = automobile.data.features.drop(['price','compression-ratio', 'peak-rpm','stroke', 'bore', 'fuel-system', 'engine-size', 'engine-type', 'curb-weight', 'num-of-doors', ], axis=1)\n",
        "\n",
        "# print head of X\n",
        "X.head()"
      ]
    },
    {
      "cell_type": "markdown",
      "metadata": {
        "id": "DU8AesVC5TJL"
      },
      "source": [
        "## Limpeza dos dados"
      ]
    },
    {
      "cell_type": "code",
      "execution_count": 11,
      "metadata": {
        "colab": {
          "base_uri": "https://localhost:8080/"
        },
        "id": "H9aIdeWc5SyR",
        "outputId": "e685a6ca-3f09-4336-e27a-b5a71e0b3831"
      },
      "outputs": [
        {
          "data": {
            "text/plain": [
              "[('peak-rpm', 0), ('horsepower', 0), ('normalized-losses', 3)]"
            ]
          },
          "execution_count": 11,
          "metadata": {},
          "output_type": "execute_result"
        }
      ],
      "source": [
        "check_missing_values(X)"
      ]
    },
    {
      "cell_type": "code",
      "execution_count": 9,
      "metadata": {},
      "outputs": [
        {
          "name": "stdout",
          "output_type": "stream",
          "text": [
            "0      5000.0\n",
            "1      5000.0\n",
            "2      5000.0\n",
            "3      5500.0\n",
            "4      5500.0\n",
            "        ...  \n",
            "200    5400.0\n",
            "201    5300.0\n",
            "202    5500.0\n",
            "203    4800.0\n",
            "204    5400.0\n",
            "Name: peak-rpm, Length: 205, dtype: float64\n"
          ]
        }
      ],
      "source": [
        "print(X['peak-rpm'])"
      ]
    },
    {
      "cell_type": "markdown",
      "metadata": {},
      "source": [
        "## Verificando correlação"
      ]
    },
    {
      "cell_type": "markdown",
      "metadata": {
        "id": "7LBst74ZyV2Z"
      },
      "source": [
        "# Modelo de regressão\n",
        "---"
      ]
    },
    {
      "cell_type": "code",
      "execution_count": null,
      "metadata": {
        "id": "uKChebNryVmF"
      },
      "outputs": [],
      "source": []
    }
  ],
  "metadata": {
    "colab": {
      "provenance": []
    },
    "kernelspec": {
      "display_name": "Python 3",
      "name": "python3"
    },
    "language_info": {
      "codemirror_mode": {
        "name": "ipython",
        "version": 3
      },
      "file_extension": ".py",
      "mimetype": "text/x-python",
      "name": "python",
      "nbconvert_exporter": "python",
      "pygments_lexer": "ipython3",
      "version": "3.10.7"
    }
  },
  "nbformat": 4,
  "nbformat_minor": 0
}
