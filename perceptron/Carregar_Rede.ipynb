{
 "cells": [
  {
   "cell_type": "code",
   "execution_count": 1,
   "id": "7a887084",
   "metadata": {},
   "outputs": [
    {
     "name": "stdout",
     "output_type": "stream",
     "text": [
      "1/1 [==============================] - 1s 887ms/step\n",
      "[[ True]]\n"
     ]
    }
   ],
   "source": [
    "import numpy as np\n",
    "import pandas as pd\n",
    "from keras.models import model_from_json\n",
    "\n",
    "arquivo = open('classificador_breast.json', 'r')\n",
    "estrutura_rede = arquivo.read()\n",
    "arquivo.close()\n",
    "\n",
    "classificador = model_from_json(estrutura_rede)\n",
    "classificador.load_weights('classificador_breast.h5')\n",
    "\n",
    "novo = np.array([[15.80, 8.34, 118, 900, 0.10, 0.26, 0.08, 0.134, 0.178,\n",
    "                  0.20, 0.05, 1098, 0.87, 4500, 145.2, 0.005, 0.04, 0.05, 0.015,\n",
    "                  0.03, 0.007, 23.15, 16.64, 178.5, 2018, 0.14, 0.185,\n",
    "                  0.84, 158, 0.363]])\n",
    "\n",
    "previsao = classificador.predict(novo)\n",
    "previsao = (previsao > 0.5)\n",
    "print(previsao)\n",
    "\n"
   ]
  },
  {
   "cell_type": "code",
   "execution_count": 2,
   "id": "e20a4c72",
   "metadata": {},
   "outputs": [
    {
     "name": "stdout",
     "output_type": "stream",
     "text": [
      "18/18 [==============================] - 0s 5ms/step - loss: 0.3845 - binary_accuracy: 0.9385\n"
     ]
    }
   ],
   "source": [
    "previsores = pd.read_csv('entradas_breast.csv')\n",
    "classe = pd.read_csv('saidas_breast.csv')\n",
    "classificador.compile(loss='binary_crossentropy', optimizer='adam', metrics=['binary_accuracy'])\n",
    "resultado = classificador.evaluate(previsores, classe)"
   ]
  },
  {
   "cell_type": "code",
   "execution_count": null,
   "id": "443106d2",
   "metadata": {},
   "outputs": [],
   "source": []
  }
 ],
 "metadata": {
  "kernelspec": {
   "display_name": "Python 3 (ipykernel)",
   "language": "python",
   "name": "python3"
  },
  "language_info": {
   "codemirror_mode": {
    "name": "ipython",
    "version": 3
   },
   "file_extension": ".py",
   "mimetype": "text/x-python",
   "name": "python",
   "nbconvert_exporter": "python",
   "pygments_lexer": "ipython3",
   "version": "3.9.12"
  }
 },
 "nbformat": 4,
 "nbformat_minor": 5
}
